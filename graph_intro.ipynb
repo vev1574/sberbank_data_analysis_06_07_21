{
 "cells": [
  {
   "cell_type": "markdown",
   "metadata": {
    "slideshow": {
     "slide_type": "slide"
    }
   },
   "source": [
    "<center>\n",
    "<img src=\"./pict/networkX_logo.png\">\n",
    "<br />\n",
    "<br />"
   ]
  },
  {
   "cell_type": "code",
   "execution_count": null,
   "metadata": {
    "slideshow": {
     "slide_type": "subslide"
    }
   },
   "outputs": [],
   "source": [
    "# https://en.wikipedia.org/wiki/Graph_(discrete_mathematics)\n",
    "\n",
    "import networkx as nx # библиотека для работы с графами"
   ]
  },
  {
   "cell_type": "markdown",
   "metadata": {
    "slideshow": {
     "slide_type": "slide"
    }
   },
   "source": [
    "Создание Graph"
   ]
  },
  {
   "cell_type": "code",
   "execution_count": null,
   "metadata": {
    "slideshow": {
     "slide_type": "subslide"
    }
   },
   "outputs": [],
   "source": [
    "G = nx.Graph() # пустой неориентированный граф\n",
    "G"
   ]
  },
  {
   "cell_type": "code",
   "execution_count": null,
   "metadata": {
    "slideshow": {
     "slide_type": "subslide"
    }
   },
   "outputs": [],
   "source": [
    "# у графа могут быть атрибуты и данные к нему привязанные\n",
    "\n",
    "A = nx.Graph(kind='news') # любой параметр, любые данные\n",
    "\n",
    "A.graph # хранится по атрибуту .graph"
   ]
  },
  {
   "cell_type": "code",
   "execution_count": null,
   "metadata": {
    "slideshow": {
     "slide_type": "subslide"
    }
   },
   "outputs": [],
   "source": [
    "G.graph['kind'] = 'reports' # можно что-нибудь изменить\n",
    "G.graph"
   ]
  },
  {
   "cell_type": "code",
   "execution_count": null,
   "metadata": {
    "slideshow": {
     "slide_type": "subslide"
    }
   },
   "outputs": [],
   "source": [
    "# https://en.wikipedia.org/wiki/Directed_graph\n",
    "    \n",
    "G = nx.DiGraph() # пустой ориентированный граф\n",
    "G"
   ]
  },
  {
   "cell_type": "code",
   "execution_count": null,
   "metadata": {
    "slideshow": {
     "slide_type": "subslide"
    }
   },
   "outputs": [],
   "source": [
    "G = nx.MultiGraph() # позволяет создавать несколько ребер между вершинами\n",
    "G "
   ]
  },
  {
   "cell_type": "code",
   "execution_count": null,
   "metadata": {
    "slideshow": {
     "slide_type": "subslide"
    }
   },
   "outputs": [],
   "source": [
    "G = nx.MultiDiGraph() # позволяет создавать несколько ориентированных ребер между вершинами\n",
    "G"
   ]
  },
  {
   "cell_type": "markdown",
   "metadata": {
    "slideshow": {
     "slide_type": "slide"
    }
   },
   "source": [
    "Добавление вершин"
   ]
  },
  {
   "cell_type": "code",
   "execution_count": null,
   "metadata": {
    "slideshow": {
     "slide_type": "subslide"
    }
   },
   "outputs": [],
   "source": [
    "G = nx.Graph()\n",
    "G.add_node(1) # добавление вершины, веришна может быть любым hashable-объектом\n",
    "\n",
    "G.nodes # перечень вершин"
   ]
  },
  {
   "cell_type": "code",
   "execution_count": null,
   "metadata": {
    "slideshow": {
     "slide_type": "subslide"
    }
   },
   "outputs": [],
   "source": [
    "G.add_node('Person 1') # можно и так\n",
    "G.nodes"
   ]
  },
  {
   "cell_type": "code",
   "execution_count": null,
   "metadata": {
    "slideshow": {
     "slide_type": "subslide"
    }
   },
   "outputs": [],
   "source": [
    "import numpy as np\n",
    "\n",
    "G.add_node(np.max) # и даже так\n",
    "G.nodes "
   ]
  },
  {
   "cell_type": "code",
   "execution_count": null,
   "metadata": {
    "slideshow": {
     "slide_type": "subslide"
    }
   },
   "outputs": [],
   "source": [
    "H = nx.Graph()\n",
    "G.add_node(H) # другой граф также может является вершииной\n",
    "\n",
    "G.nodes"
   ]
  },
  {
   "cell_type": "code",
   "execution_count": null,
   "metadata": {
    "slideshow": {
     "slide_type": "subslide"
    }
   },
   "outputs": [],
   "source": [
    "G.add_nodes_from(['Person 2', np.min, 2]) # из любого iterable контейнера\n",
    "G.nodes"
   ]
  },
  {
   "cell_type": "code",
   "execution_count": null,
   "metadata": {
    "slideshow": {
     "slide_type": "subslide"
    }
   },
   "outputs": [],
   "source": [
    "G.add_node('Person with name', name='Ivan') # добавление атрибутов вершины\n",
    "G.nodes"
   ]
  },
  {
   "cell_type": "code",
   "execution_count": null,
   "metadata": {
    "slideshow": {
     "slide_type": "subslide"
    }
   },
   "outputs": [],
   "source": [
    "G.nodes['Person with name']"
   ]
  },
  {
   "cell_type": "code",
   "execution_count": null,
   "metadata": {
    "slideshow": {
     "slide_type": "subslide"
    }
   },
   "outputs": [],
   "source": [
    "G.add_nodes_from([(4, {'name': 'Maria'}),\n",
    "                  (5, {'color': 'red'})]) # сразу несколько атрибутированных вершин"
   ]
  },
  {
   "cell_type": "code",
   "execution_count": null,
   "metadata": {
    "slideshow": {
     "slide_type": "subslide"
    }
   },
   "outputs": [],
   "source": [
    "G.nodes[4]  "
   ]
  },
  {
   "cell_type": "code",
   "execution_count": null,
   "metadata": {
    "slideshow": {
     "slide_type": "subslide"
    }
   },
   "outputs": [],
   "source": [
    "G.nodes.data() # сразу все данные в вершинах графа"
   ]
  },
  {
   "cell_type": "code",
   "execution_count": null,
   "metadata": {
    "slideshow": {
     "slide_type": "subslide"
    }
   },
   "outputs": [],
   "source": [
    "G.nodes.data('color') # взять только выбранный атрибут в данных"
   ]
  },
  {
   "cell_type": "code",
   "execution_count": null,
   "metadata": {
    "slideshow": {
     "slide_type": "subslide"
    }
   },
   "outputs": [],
   "source": [
    "labels = [1]\n",
    "nx.set_node_attributes(G, labels, name='labels') # массовая установка с атрибутами\n",
    "G.nodes['Person 1']"
   ]
  },
  {
   "cell_type": "code",
   "execution_count": null,
   "metadata": {
    "slideshow": {
     "slide_type": "subslide"
    }
   },
   "outputs": [],
   "source": [
    "G.number_of_nodes() # количество вершин"
   ]
  },
  {
   "cell_type": "markdown",
   "metadata": {
    "slideshow": {
     "slide_type": "slide"
    }
   },
   "source": [
    "Добавление ребер"
   ]
  },
  {
   "cell_type": "code",
   "execution_count": null,
   "metadata": {
    "slideshow": {
     "slide_type": "subslide"
    }
   },
   "outputs": [],
   "source": [
    "G.add_edge('Person 1', 'Person 2')\n",
    "G.edges"
   ]
  },
  {
   "cell_type": "code",
   "execution_count": null,
   "metadata": {
    "slideshow": {
     "slide_type": "subslide"
    }
   },
   "outputs": [],
   "source": [
    "G.add_edge('Person 1', 'Person 2', weight=0.3, kind='co-occurrence') # атрибуты для ребра\n",
    "\n",
    "G.edges['Person 1', 'Person 2']"
   ]
  },
  {
   "cell_type": "code",
   "execution_count": null,
   "metadata": {
    "slideshow": {
     "slide_type": "subslide"
    }
   },
   "outputs": [],
   "source": [
    "G['Person 1']['Person 2'] # можем и так обращаться к ребру / Graph - dict of dicts"
   ]
  },
  {
   "cell_type": "code",
   "execution_count": null,
   "metadata": {
    "slideshow": {
     "slide_type": "subslide"
    }
   },
   "outputs": [],
   "source": [
    "G.edges.data() # все данные в ребрах"
   ]
  },
  {
   "cell_type": "code",
   "execution_count": null,
   "metadata": {
    "slideshow": {
     "slide_type": "subslide"
    }
   },
   "outputs": [],
   "source": [
    "G.edges.data('kind') # только нужные атрибуты"
   ]
  },
  {
   "cell_type": "code",
   "execution_count": null,
   "metadata": {
    "slideshow": {
     "slide_type": "subslide"
    }
   },
   "outputs": [],
   "source": [
    "labels = [1]\n",
    "nx.set_edge_attributes(G, labels, name='labels') # аналогично вершинам\n",
    "\n",
    "G.edges['Person 1', 'Person 2']"
   ]
  },
  {
   "cell_type": "code",
   "execution_count": null,
   "metadata": {
    "slideshow": {
     "slide_type": "subslide"
    }
   },
   "outputs": [],
   "source": [
    "G.add_edge(1, 4)\n",
    "G.add_edge(4, 5)\n",
    "G.add_edge(5, 2)\n",
    "G.add_edge(2, 'Person with name')\n",
    "G.add_edge('Person with name', 'Person 2')"
   ]
  },
  {
   "cell_type": "code",
   "execution_count": null,
   "metadata": {
    "slideshow": {
     "slide_type": "subslide"
    }
   },
   "outputs": [],
   "source": [
    "G.add_edges_from([(1, 2), (1, 3)]) # из iterable контейнера"
   ]
  },
  {
   "cell_type": "code",
   "execution_count": null,
   "metadata": {
    "slideshow": {
     "slide_type": "subslide"
    }
   },
   "outputs": [],
   "source": [
    "G.add_edges_from(H.edges) # из другого графа (в данном случае граф H пустой)"
   ]
  },
  {
   "cell_type": "code",
   "execution_count": null,
   "metadata": {
    "slideshow": {
     "slide_type": "subslide"
    }
   },
   "outputs": [],
   "source": [
    "G.number_of_edges() # общее количество ребер"
   ]
  },
  {
   "cell_type": "markdown",
   "metadata": {
    "slideshow": {
     "slide_type": "slide"
    }
   },
   "source": [
    "Базовое представление графа"
   ]
  },
  {
   "cell_type": "code",
   "execution_count": null,
   "metadata": {
    "slideshow": {
     "slide_type": "subslide"
    }
   },
   "outputs": [],
   "source": [
    "list(G.nodes) # вершины"
   ]
  },
  {
   "cell_type": "code",
   "execution_count": null,
   "metadata": {
    "slideshow": {
     "slide_type": "subslide"
    }
   },
   "outputs": [],
   "source": [
    "G.degree([1, 3]) # степень выбранной вершины / вершин, количество соседей"
   ]
  },
  {
   "cell_type": "code",
   "execution_count": null,
   "metadata": {
    "slideshow": {
     "slide_type": "subslide"
    }
   },
   "outputs": [],
   "source": [
    "list(G.edges) # ребра"
   ]
  },
  {
   "cell_type": "code",
   "execution_count": null,
   "metadata": {
    "slideshow": {
     "slide_type": "subslide"
    }
   },
   "outputs": [],
   "source": [
    "G.edges([2, 3]) # можно смотреть и только ребра для выбранных вершин"
   ]
  },
  {
   "cell_type": "code",
   "execution_count": null,
   "metadata": {
    "slideshow": {
     "slide_type": "subslide"
    }
   },
   "outputs": [],
   "source": [
    "G.adj # представление графа - смежность вершин"
   ]
  },
  {
   "cell_type": "code",
   "execution_count": null,
   "metadata": {
    "slideshow": {
     "slide_type": "subslide"
    }
   },
   "outputs": [],
   "source": [
    "G[1] # та же смежность"
   ]
  },
  {
   "cell_type": "code",
   "execution_count": null,
   "metadata": {
    "slideshow": {
     "slide_type": "subslide"
    }
   },
   "outputs": [],
   "source": [
    "iG = nx.relabel.convert_node_labels_to_integers(G) # численное представление вершин - удобно для алгоритмов\n",
    "iG.nodes"
   ]
  },
  {
   "cell_type": "markdown",
   "metadata": {
    "slideshow": {
     "slide_type": "slide"
    }
   },
   "source": [
    "Удаление вершин / ребер"
   ]
  },
  {
   "cell_type": "code",
   "execution_count": null,
   "metadata": {
    "slideshow": {
     "slide_type": "subslide"
    }
   },
   "outputs": [],
   "source": [
    "G.nodes"
   ]
  },
  {
   "cell_type": "code",
   "execution_count": null,
   "metadata": {
    "slideshow": {
     "slide_type": "subslide"
    }
   },
   "outputs": [],
   "source": [
    "G.remove_node(np.max) # удаление вершины\n",
    "G.remove_nodes_from([np.min, H])  # также можно удалять через контейнер \n",
    "\n",
    "G.nodes"
   ]
  },
  {
   "cell_type": "code",
   "execution_count": null,
   "metadata": {
    "slideshow": {
     "slide_type": "subslide"
    }
   },
   "outputs": [],
   "source": [
    "G.edges"
   ]
  },
  {
   "cell_type": "code",
   "execution_count": null,
   "metadata": {
    "slideshow": {
     "slide_type": "subslide"
    }
   },
   "outputs": [],
   "source": [
    "G.remove_edge(1, 4) # удаление ребра\n",
    "G.remove_edges_from([(1, 3), (1, 2)]) # удаление ребер через контейнер\n",
    "G.edges"
   ]
  },
  {
   "cell_type": "code",
   "execution_count": null,
   "metadata": {
    "slideshow": {
     "slide_type": "subslide"
    }
   },
   "outputs": [],
   "source": [
    "G.add_edge(1, 4)\n",
    "G.add_edges_from([(1, 3), (1, 2)]) # вернем"
   ]
  },
  {
   "cell_type": "markdown",
   "metadata": {
    "slideshow": {
     "slide_type": "slide"
    }
   },
   "source": [
    "Чтение / запись графа"
   ]
  },
  {
   "cell_type": "code",
   "execution_count": null,
   "metadata": {
    "slideshow": {
     "slide_type": "subslide"
    }
   },
   "outputs": [],
   "source": [
    "# Различные типы представления графа поддерживаются. \n",
    "# GML / GEXF / GraphML / JSON\n",
    "# ----> https://networkx.org/documentation/stable/reference/readwrite/index.html\n",
    "\n",
    "nx.write_gpickle(G, './data/graph_sample.gpickle')\n",
    "G = nx.read_gpickle('./data/graph_sample.gpickle')"
   ]
  },
  {
   "cell_type": "markdown",
   "metadata": {
    "slideshow": {
     "slide_type": "slide"
    }
   },
   "source": [
    "\"Быстрое\" констурирование графа"
   ]
  },
  {
   "cell_type": "code",
   "execution_count": null,
   "metadata": {
    "slideshow": {
     "slide_type": "subslide"
    }
   },
   "outputs": [],
   "source": [
    "edgelist = [(0, 1), (1, 2), (2, 3)] # через список ребер\n",
    "H = nx.Graph(edgelist)\n",
    "H.nodes"
   ]
  },
  {
   "cell_type": "code",
   "execution_count": null,
   "metadata": {
    "slideshow": {
     "slide_type": "subslide"
    }
   },
   "outputs": [],
   "source": [
    "DiG = nx.DiGraph(G) # через другой граф\n",
    "DiG.in_edges"
   ]
  },
  {
   "cell_type": "code",
   "execution_count": null,
   "metadata": {
    "slideshow": {
     "slide_type": "subslide"
    }
   },
   "outputs": [],
   "source": [
    "DiG.out_edges"
   ]
  },
  {
   "cell_type": "markdown",
   "metadata": {
    "slideshow": {
     "slide_type": "slide"
    }
   },
   "source": [
    "Ориентированные графы"
   ]
  },
  {
   "cell_type": "code",
   "execution_count": null,
   "metadata": {
    "slideshow": {
     "slide_type": "subslide"
    }
   },
   "outputs": [],
   "source": [
    "DG = nx.DiGraph()\n",
    "DG.add_weighted_edges_from([('Company 1', 'Company 2', 50), \n",
    "                            ('Company 2', 'Company 3', 150), \n",
    "                            ('Company 3', 'Company 1', 20)])\n",
    "\n",
    "print('predecessors:', list(DG.predecessors('Company 1')))\n",
    "print('successors:', list(DG.successors('Company 1')))\n",
    "print()\n",
    "print('in degree:', DG.in_degree('Company 1'))\n",
    "print('out degree:', DG.out_degree('Company 1'))\n",
    "print('degree:', DG.degree('Company 1'))"
   ]
  },
  {
   "cell_type": "code",
   "execution_count": null,
   "metadata": {
    "slideshow": {
     "slide_type": "subslide"
    }
   },
   "outputs": [],
   "source": [
    "DG.edges['Company 1', 'Company 2']"
   ]
  },
  {
   "cell_type": "code",
   "execution_count": null,
   "metadata": {
    "slideshow": {
     "slide_type": "subslide"
    }
   },
   "outputs": [],
   "source": [
    "DG.edges['Company 2', 'Company 1'] # ошибка"
   ]
  },
  {
   "cell_type": "code",
   "execution_count": null,
   "metadata": {
    "slideshow": {
     "slide_type": "subslide"
    }
   },
   "outputs": [],
   "source": [
    "DG.to_undirected() # возвращает неориентированный граф из ориентированного / .to_directed()"
   ]
  },
  {
   "cell_type": "code",
   "execution_count": null,
   "metadata": {
    "slideshow": {
     "slide_type": "subslide"
    }
   },
   "outputs": [],
   "source": [
    "DG.to_undirected().edges['Company 2', 'Company 1'] # снова стало возможным"
   ]
  },
  {
   "cell_type": "markdown",
   "metadata": {
    "slideshow": {
     "slide_type": "slide"
    }
   },
   "source": [
    "Мульти-граф"
   ]
  },
  {
   "cell_type": "code",
   "execution_count": null,
   "metadata": {
    "slideshow": {
     "slide_type": "subslide"
    }
   },
   "outputs": [],
   "source": [
    "MG = nx.MultiGraph()\n",
    "\n",
    "MG.add_edges_from([('Industry 1', 'Person 1', {'kind':'Kommersant', 'count': 50}),\n",
    "                   ('Industry 1', 'Person 1', {'kind':'RIA', 'count': 10})])\n",
    "\n",
    "MG.edges"
   ]
  },
  {
   "cell_type": "code",
   "execution_count": null,
   "metadata": {
    "slideshow": {
     "slide_type": "subslide"
    }
   },
   "outputs": [],
   "source": [
    "MG.edges['Industry 1', 'Person 1', 0]"
   ]
  },
  {
   "cell_type": "code",
   "execution_count": null,
   "metadata": {
    "slideshow": {
     "slide_type": "subslide"
    }
   },
   "outputs": [],
   "source": [
    "MG.edges['Industry 1', 'Person 1', 1]"
   ]
  },
  {
   "cell_type": "markdown",
   "metadata": {
    "slideshow": {
     "slide_type": "slide"
    }
   },
   "source": [
    "Операции на графах"
   ]
  },
  {
   "cell_type": "code",
   "execution_count": null,
   "metadata": {
    "slideshow": {
     "slide_type": "subslide"
    }
   },
   "outputs": [],
   "source": [
    "G.size() # количество ребер или сумму всех весов ребер"
   ]
  },
  {
   "cell_type": "code",
   "execution_count": null,
   "metadata": {
    "slideshow": {
     "slide_type": "subslide"
    }
   },
   "outputs": [],
   "source": [
    "# https://en.wikipedia.org/wiki/Graph_center\n",
    "\n",
    "nx.center(G) # вершины в центре графа (только для связного)"
   ]
  },
  {
   "cell_type": "code",
   "execution_count": null,
   "metadata": {
    "slideshow": {
     "slide_type": "subslide"
    }
   },
   "outputs": [],
   "source": [
    "# https://en.wikipedia.org/wiki/Distance_(graph_theory)#Related_concepts\n",
    "\n",
    "nx.algorithms.distance_measures.diameter(G) # диаметр графа, если он связный"
   ]
  },
  {
   "cell_type": "code",
   "execution_count": null,
   "metadata": {
    "slideshow": {
     "slide_type": "subslide"
    }
   },
   "outputs": [],
   "source": [
    "# https://en.wikipedia.org/wiki/Adjacency_matrix\n",
    "\n",
    "nx.adjacency_matrix(G).toarray() # матрица связности графа"
   ]
  },
  {
   "cell_type": "code",
   "execution_count": null,
   "metadata": {
    "slideshow": {
     "slide_type": "subslide"
    }
   },
   "outputs": [],
   "source": [
    "# https://en.wikipedia.org/wiki/Incidence_matrix\n",
    "    \n",
    "nx.incidence_matrix(G).toarray() # матрица инцидентности"
   ]
  },
  {
   "cell_type": "code",
   "execution_count": null,
   "metadata": {
    "slideshow": {
     "slide_type": "subslide"
    }
   },
   "outputs": [],
   "source": [
    "subG = G.subgraph(['Person 1', 2]) # подграф на заданных вершинах\n",
    "\n",
    "print('nodes:', subG.nodes)\n",
    "print('edges:', subG.edges)\n",
    "\n",
    "subG = nx.Graph(subG) # новый граф созданный из подграфа\n",
    "subG.add_edge('Person 1', 2, weight=0.3) # что нибудь ему добавим\n",
    "\n",
    "print()\n",
    "print('nodes:', subG.nodes)\n",
    "print('edges:', subG.edges)"
   ]
  },
  {
   "cell_type": "code",
   "execution_count": null,
   "metadata": {
    "scrolled": true,
    "slideshow": {
     "slide_type": "subslide"
    }
   },
   "outputs": [],
   "source": [
    "# представление графа через фильтрацию вершин\n",
    "\n",
    "def filter_node(n):\n",
    "    return n in ['Person 2', 'Person with name']\n",
    "\n",
    "print(nx.subgraph_view(G, filter_node=filter_node).nodes)\n",
    "print(nx.subgraph_view(G, filter_node=filter_node).edges)"
   ]
  },
  {
   "cell_type": "code",
   "execution_count": null,
   "metadata": {
    "slideshow": {
     "slide_type": "subslide"
    }
   },
   "outputs": [],
   "source": [
    "# представление графа через фильтрацию ребер\n",
    "\n",
    "def filter_edge(n1, n2):\n",
    "    return G[n1][n2].get(\"kind\")\n",
    "\n",
    "print(nx.subgraph_view(G, filter_edge=filter_edge).nodes)\n",
    "print(nx.subgraph_view(G, filter_edge=filter_edge).edges)"
   ]
  },
  {
   "cell_type": "code",
   "execution_count": null,
   "metadata": {
    "slideshow": {
     "slide_type": "subslide"
    }
   },
   "outputs": [],
   "source": [
    "nx.add_path(G, [1, 2, 3]) # ко графу добавить путь\n",
    "nx.add_cycle(G, [1, 2, 3]) # ко графу добавить цикл\n",
    "nx.add_star(G, [1, 2, 3]) # добавить звезду"
   ]
  },
  {
   "cell_type": "code",
   "execution_count": null,
   "metadata": {
    "slideshow": {
     "slide_type": "subslide"
    }
   },
   "outputs": [],
   "source": [
    "U = nx.union(G, subG, rename=('G-','subG-')) # объединение графов \n",
    "U.edges"
   ]
  },
  {
   "cell_type": "code",
   "execution_count": null,
   "metadata": {
    "slideshow": {
     "slide_type": "subslide"
    }
   },
   "outputs": [],
   "source": [
    "compose_G = nx.compose(G, subG) # слияение графов\n",
    "\n",
    "print(G.edges)\n",
    "print()\n",
    "print(compose_G.edges)"
   ]
  },
  {
   "cell_type": "code",
   "execution_count": null,
   "metadata": {
    "slideshow": {
     "slide_type": "subslide"
    }
   },
   "outputs": [],
   "source": [
    "#  https://en.wikipedia.org/wiki/Cartesian_product_of_graphs\n",
    "\n",
    "P = nx.cartesian_product(G, subG) # прямое произведение графов\n",
    "P.nodes"
   ]
  },
  {
   "cell_type": "code",
   "execution_count": null,
   "metadata": {
    "slideshow": {
     "slide_type": "subslide"
    }
   },
   "outputs": [],
   "source": [
    "# https://en.wikipedia.org/wiki/Complement_graph\n",
    "\n",
    "complement_G = nx.complement(G) # взятие комплементарного графа\n",
    "\n",
    "print(G.edges)\n",
    "print()\n",
    "print(complement_G.edges)"
   ]
  },
  {
   "cell_type": "markdown",
   "metadata": {
    "slideshow": {
     "slide_type": "slide"
    }
   },
   "source": [
    "Визуализация графов"
   ]
  },
  {
   "cell_type": "code",
   "execution_count": null,
   "metadata": {
    "slideshow": {
     "slide_type": "subslide"
    }
   },
   "outputs": [],
   "source": [
    "import matplotlib.pyplot as plt\n",
    "%matplotlib inline\n",
    "\n",
    "plt.figure(figsize=(5, 5))\n",
    "\n",
    "nx.draw(G, with_labels=True, font_weight='bold')\n",
    "\n",
    "plt.show()"
   ]
  },
  {
   "cell_type": "code",
   "execution_count": null,
   "metadata": {
    "slideshow": {
     "slide_type": "subslide"
    }
   },
   "outputs": [],
   "source": [
    "G.add_edge('Person 2', 'Person') # немного усложним граф\n",
    "G.add_edge('Person', 4)\n",
    "G.add_edge(3, 2)\n",
    "G.add_edge(3, 5)\n",
    "G.add_edge('Person 1', 3)\n",
    "G.add_edge('Person 1', 1)\n",
    "G.add_edge(4, 3)\n",
    "\n",
    "G.add_nodes_from(['Industry 1', 'Industry 2', 'Industry 3'])\n",
    "G.add_edges_from([('Industry 1', 'Industry 2', {'weight': 0.2}), \n",
    "                  ('Industry 2', 'Industry 3', {'weight': 0.3}),\n",
    "                  ('Industry 1', 'Industry 3', {'weight': 0.9})])\n",
    "\n",
    "\n",
    "plt.figure(figsize=(7, 5))\n",
    "nx.draw(G, with_labels=True, font_weight='bold')\n",
    "plt.show()"
   ]
  },
  {
   "cell_type": "markdown",
   "metadata": {
    "slideshow": {
     "slide_type": "slide"
    }
   },
   "source": [
    "Алгоритмы на графах"
   ]
  },
  {
   "cell_type": "code",
   "execution_count": null,
   "metadata": {
    "slideshow": {
     "slide_type": "subslide"
    }
   },
   "outputs": [],
   "source": [
    "nx.triangles(G, nodes=[2, 'Person 2', 5]) # количество треугольников, которые проходят через вершину"
   ]
  },
  {
   "cell_type": "code",
   "execution_count": null,
   "metadata": {
    "slideshow": {
     "slide_type": "subslide"
    }
   },
   "outputs": [],
   "source": [
    "list(nx.connected_components(G)) # связные компоненты в графе"
   ]
  },
  {
   "cell_type": "code",
   "execution_count": null,
   "metadata": {
    "scrolled": true,
    "slideshow": {
     "slide_type": "subslide"
    }
   },
   "outputs": [],
   "source": [
    "nx.all_pairs_node_connectivity(G) # связность всех вершин"
   ]
  },
  {
   "cell_type": "code",
   "execution_count": null,
   "metadata": {
    "slideshow": {
     "slide_type": "subslide"
    }
   },
   "outputs": [],
   "source": [
    "# https://en.wikipedia.org/wiki/Component_(graph_theory)\n",
    "\n",
    "from networkx.algorithms import approximation as apxa\n",
    "\n",
    "apxa.k_components(G) # компоненты связности уровня K"
   ]
  },
  {
   "cell_type": "code",
   "execution_count": null,
   "metadata": {
    "scrolled": true,
    "slideshow": {
     "slide_type": "subslide"
    }
   },
   "outputs": [],
   "source": [
    "dict(nx.all_pairs_shortest_path(G)) # кратчайшие пути из одной вершину в другую без веса"
   ]
  },
  {
   "cell_type": "code",
   "execution_count": null,
   "metadata": {
    "slideshow": {
     "slide_type": "subslide"
    }
   },
   "outputs": [],
   "source": [
    "nx.dijkstra_path(G, 'Industry 1', 'Industry 3') # кратчайший путь (если есть weight - учитывается,\n",
    "                                                            # если нет считается за 1)"
   ]
  },
  {
   "cell_type": "code",
   "execution_count": null,
   "metadata": {
    "slideshow": {
     "slide_type": "subslide"
    }
   },
   "outputs": [],
   "source": [
    "# https://en.wikipedia.org/wiki/Clique_(graph_theory)\n",
    "\n",
    "nx.algorithms.approximation.clique.max_clique(G) # поиск максимальной клике в графе"
   ]
  },
  {
   "cell_type": "code",
   "execution_count": null,
   "metadata": {
    "slideshow": {
     "slide_type": "subslide"
    }
   },
   "outputs": [],
   "source": [
    "nx.algorithms.cycles.cycle_basis(G) # поиск базовых циклов в графе"
   ]
  },
  {
   "cell_type": "code",
   "execution_count": null,
   "metadata": {
    "slideshow": {
     "slide_type": "subslide"
    }
   },
   "outputs": [],
   "source": [
    "# И куча других полезных методов и алгоритмов на графах...\n",
    "# https://networkx.org/documentation/stable/reference/algorithms/index.html#"
   ]
  },
  {
   "cell_type": "markdown",
   "metadata": {
    "slideshow": {
     "slide_type": "slide"
    }
   },
   "source": [
    "Генерация популярных графов"
   ]
  },
  {
   "cell_type": "code",
   "execution_count": null,
   "metadata": {
    "slideshow": {
     "slide_type": "subslide"
    }
   },
   "outputs": [],
   "source": [
    "# https://en.wikipedia.org/wiki/Path_graph\n",
    "\n",
    "nx.draw(nx.path_graph(8)) # путь на заданном количестве вершин"
   ]
  },
  {
   "cell_type": "code",
   "execution_count": null,
   "metadata": {
    "slideshow": {
     "slide_type": "subslide"
    }
   },
   "outputs": [],
   "source": [
    "# https://en.wikipedia.org/wiki/Complete_graph \n",
    "\n",
    "nx.draw(nx.complete_graph(n=10)) # полный граф на 10 вершинах"
   ]
  },
  {
   "cell_type": "code",
   "execution_count": null,
   "metadata": {
    "slideshow": {
     "slide_type": "subslide"
    }
   },
   "outputs": [],
   "source": [
    "# https://en.wikipedia.org/wiki/Complete_bipartite_graph \n",
    "\n",
    "nx.draw(nx.complete_bipartite_graph(10, 5)) # полный двудольный граф "
   ]
  },
  {
   "cell_type": "code",
   "execution_count": null,
   "metadata": {
    "slideshow": {
     "slide_type": "subslide"
    }
   },
   "outputs": [],
   "source": [
    "# https://en.wikipedia.org/wiki/Barbell_graph\n",
    "\n",
    "nx.draw(nx.barbell_graph(10, 5)) # два полных графа соединенных путем"
   ]
  },
  {
   "cell_type": "code",
   "execution_count": null,
   "metadata": {
    "slideshow": {
     "slide_type": "subslide"
    }
   },
   "outputs": [],
   "source": [
    "# https://en.wikipedia.org/wiki/Lollipop_graph\n",
    "\n",
    "nx.draw(nx.lollipop_graph(10, 5)) # полный граф + путь"
   ]
  },
  {
   "cell_type": "code",
   "execution_count": null,
   "metadata": {
    "slideshow": {
     "slide_type": "subslide"
    }
   },
   "outputs": [],
   "source": [
    "# https://en.wikipedia.org/wiki/Petersen_graph\n",
    "    \n",
    "nx.draw(nx.petersen_graph())"
   ]
  },
  {
   "cell_type": "code",
   "execution_count": null,
   "metadata": {
    "slideshow": {
     "slide_type": "subslide"
    }
   },
   "outputs": [],
   "source": [
    "# https://en.wikipedia.org/wiki/Tutte_graph\n",
    "\n",
    "nx.draw(nx.tutte_graph())"
   ]
  },
  {
   "cell_type": "code",
   "execution_count": null,
   "metadata": {
    "slideshow": {
     "slide_type": "subslide"
    }
   },
   "outputs": [],
   "source": [
    "# https://en.wikipedia.org/wiki/Maze_generation_algorithm\n",
    "    \n",
    "nx.draw(nx.sedgewick_maze_graph())"
   ]
  },
  {
   "cell_type": "code",
   "execution_count": null,
   "metadata": {
    "slideshow": {
     "slide_type": "subslide"
    }
   },
   "outputs": [],
   "source": [
    "# https://en.wikipedia.org/wiki/Tetrahedron\n",
    "\n",
    "nx.draw(nx.tetrahedral_graph())"
   ]
  },
  {
   "cell_type": "code",
   "execution_count": null,
   "metadata": {
    "slideshow": {
     "slide_type": "subslide"
    }
   },
   "outputs": [],
   "source": [
    "nx.draw(nx.cubical_graph()) # кубический граф"
   ]
  },
  {
   "cell_type": "code",
   "execution_count": null,
   "metadata": {
    "slideshow": {
     "slide_type": "subslide"
    }
   },
   "outputs": [],
   "source": [
    "# https://en.wikipedia.org/wiki/Erdős–Rényi_model\n",
    "\n",
    "nx.draw(nx.erdos_renyi_graph(10, 0.4)) # случайный граф из заданной модели"
   ]
  },
  {
   "cell_type": "code",
   "execution_count": null,
   "metadata": {
    "slideshow": {
     "slide_type": "subslide"
    }
   },
   "outputs": [],
   "source": [
    "# https://en.wikipedia.org/wiki/Watts–Strogatz_model\n",
    "\n",
    "nx.draw(nx.watts_strogatz_graph(10, 5, 0.2)) # случайный граф из заданной модели"
   ]
  },
  {
   "cell_type": "code",
   "execution_count": null,
   "metadata": {
    "slideshow": {
     "slide_type": "subslide"
    }
   },
   "outputs": [],
   "source": [
    "# https://en.wikipedia.org/wiki/Barabási–Albert_model\n",
    "\n",
    "nx.draw(nx.barabasi_albert_graph(10, 3))  # случайный граф из заданной модели"
   ]
  },
  {
   "cell_type": "code",
   "execution_count": null,
   "metadata": {
    "slideshow": {
     "slide_type": "subslide"
    }
   },
   "outputs": [],
   "source": [
    "# https://en.wikipedia.org/wiki/List_of_graphs\n",
    " \n",
    "nx.draw(nx.random_lobster(5, 0.9, 0.9)) # случайный граф из заданной модели"
   ]
  },
  {
   "cell_type": "code",
   "execution_count": null,
   "metadata": {
    "slideshow": {
     "slide_type": "subslide"
    }
   },
   "outputs": [],
   "source": [
    "nx.draw(nx.random_tree(15)) # случайное деревно"
   ]
  },
  {
   "cell_type": "markdown",
   "metadata": {
    "slideshow": {
     "slide_type": "slide"
    }
   },
   "source": [
    "Чуть более продвинутая визуализация"
   ]
  },
  {
   "cell_type": "code",
   "execution_count": null,
   "metadata": {},
   "outputs": [],
   "source": [
    "myG = G"
   ]
  },
  {
   "cell_type": "code",
   "execution_count": null,
   "metadata": {
    "slideshow": {
     "slide_type": "subslide"
    }
   },
   "outputs": [],
   "source": [
    "# вершины в colormap\n",
    "\n",
    "np.random.seed(11)\n",
    "\n",
    "plt.figure(figsize=(10, 5))\n",
    "G = nx.cycle_graph(24)\n",
    "nx.draw(G, None, node_color=range(24), edge_color='red', node_size=800, cmap=plt.cm.Blues)\n",
    "plt.show()"
   ]
  },
  {
   "cell_type": "code",
   "execution_count": null,
   "metadata": {
    "slideshow": {
     "slide_type": "subslide"
    }
   },
   "outputs": [],
   "source": [
    "# ребра в colormap\n",
    "\n",
    "np.random.seed(11)\n",
    "\n",
    "plt.figure(figsize=(10, 5))\n",
    "\n",
    "G = nx.star_graph(20)\n",
    "\n",
    "colors = range(20)\n",
    "options = {\n",
    "    \"node_color\": 'red',\n",
    "    \"edge_color\": colors,\n",
    "    \"width\": 2,\n",
    "    \"edge_cmap\": plt.cm.Blues,\n",
    "    \"with_labels\": True,\n",
    "}\n",
    "\n",
    "nx.draw(G, **options)\n",
    "plt.show()"
   ]
  },
  {
   "cell_type": "code",
   "execution_count": null,
   "metadata": {
    "slideshow": {
     "slide_type": "subslide"
    }
   },
   "outputs": [],
   "source": [
    "np.random.seed(10)\n",
    "\n",
    "iG = nx.relabel.convert_node_labels_to_integers(myG)\n",
    "pos = nx.spring_layout(iG)\n",
    "\n",
    "plt.figure(figsize=(7, 5))\n",
    "nx.draw(iG, pos, with_labels=True, font_weight='bold')\n",
    "plt.show()"
   ]
  },
  {
   "cell_type": "code",
   "execution_count": null,
   "metadata": {
    "slideshow": {
     "slide_type": "subslide"
    }
   },
   "outputs": [],
   "source": [
    "np.random.seed(10)\n",
    "plt.figure(figsize=(7, 5))\n",
    "\n",
    "# вершины\n",
    "options = {\"node_size\": 300, \"alpha\": 0.8}\n",
    "nx.draw_networkx_nodes(iG, pos, nodelist=[2, 1, 0, 7, 6], node_color='r', **options)\n",
    "nx.draw_networkx_nodes(iG, pos, nodelist=[4, 3, 5, 8], node_color='b', **options)\n",
    "nx.draw_networkx_nodes(iG, pos, nodelist=[9, 10, 11], node_color='g', **options)\n",
    "\n",
    "# ребра\n",
    "nx.draw_networkx_edges(iG, pos, width=3, edge_color='#4b1ca3', alpha=0.5)\n",
    "nx.draw_networkx_edges(iG, pos, edgelist=list(iG.subgraph([2, 1, 0, 7, 6]).edges), \n",
    "                       width=5, alpha=0.5, edge_color='orange')\n",
    "nx.draw_networkx_edges(iG, pos, edgelist=list(iG.subgraph([4, 3, 5, 8]).edges), \n",
    "                       width=5, alpha=0.5, edge_color='yellow')\n",
    "nx.draw_networkx_edges(iG, pos, edgelist=list(iG.subgraph([9, 10, 11]).edges), \n",
    "                       width=5, alpha=0.5, edge_color='brown')\n",
    "\n",
    "# label вершин \n",
    "\n",
    "labels = {k: k for k in list(iG.nodes)}\n",
    "\n",
    "labels[4] = r\"$\\alpha$\"\n",
    "labels[5] = r\"$\\beta$\"\n",
    "labels[6] = r\"$\\gamma$\"\n",
    "labels[7] = r\"$\\delta$\"\n",
    "\n",
    "nx.draw_networkx_labels(iG, pos, labels, font_size=16)\n",
    "\n",
    "plt.axis(\"off\")\n",
    "plt.show()"
   ]
  }
 ],
 "metadata": {
  "celltoolbar": "Slideshow",
  "kernelspec": {
   "display_name": "Python 3",
   "language": "python",
   "name": "python3"
  },
  "language_info": {
   "codemirror_mode": {
    "name": "ipython",
    "version": 3
   },
   "file_extension": ".py",
   "mimetype": "text/x-python",
   "name": "python",
   "nbconvert_exporter": "python",
   "pygments_lexer": "ipython3",
   "version": "3.6.8"
  }
 },
 "nbformat": 4,
 "nbformat_minor": 2
}
